{
  "nbformat": 4,
  "nbformat_minor": 0,
  "metadata": {
    "colab": {
      "name": "binary_search.ipynb",
      "version": "0.3.2",
      "provenance": [],
      "collapsed_sections": []
    },
    "kernelspec": {
      "name": "python3",
      "display_name": "Python 3"
    }
  },
  "cells": [
    {
      "cell_type": "code",
      "metadata": {
        "id": "ZnOrDLvw2nGS",
        "colab_type": "code",
        "outputId": "58b67429-fd8d-44ff-f32e-af9b0083fdd5",
        "colab": {
          "base_uri": "https://localhost:8080/",
          "height": 71
        }
      },
      "source": [
        "#binary search\n",
        "array =[21, 86, 30, 33, 43, 29, 31, 99, 0, 97, 80, 10, 2, 43, 23, 79, 6, 9, 5, 29, 16, 63, 30, 77, 87, 90, 54, 90, 36, 60, 67, 99, 13, 39, 7, 22, 45, 86, 63, 60, 62, 7, 95, 23, 90, 32, 37, 99, 42, 100, 31, 90, 24, 4, 70, 10, 64, 34, 64, 78, 44, 21, 35, 26, 31, 3, 36, 79, 33, 19, 4, 95, 4, 6, 4, 10, 82, 78, 34, 62, 81, 93, 63, 80, 51, 97, 29, 66, 21, 50, 50, 77, 51, 85, 46, 48, 36, 29, 65, 8];\n",
        "search_element = 16\n",
        "test_array = array.copy();\n",
        "def binary(array,search_term):\n",
        "  \n",
        "  end = len(array)\n",
        "  array.sort()\n",
        "  \n",
        "  start = 0;\n",
        "  mid = (end-start)/2\n",
        "  mid = int(mid)\n",
        "  \n",
        "  if(len(array) == 0):\n",
        "    print('element not found')\n",
        "    return\n",
        "  \n",
        "  elif (search_term == array[mid]):\n",
        "    print('element found '+str(array[mid])+' at index ' + str(test_array.index(search_term)));\n",
        "   \n",
        "  elif(search_term < array[mid]):\n",
        "    array = array[start:mid];\n",
        "    binary(array,search_term)\n",
        "   \n",
        "  elif(search_term > array[mid]):\n",
        "    array = array[mid+1:end];\n",
        "   \n",
        "    binary(array,search_term)\n",
        "    \n",
        "  \n",
        "\n",
        "binary(array, search_element);\n",
        " \n",
        "  "
      ],
      "execution_count": 0,
      "outputs": [
        {
          "output_type": "stream",
          "text": [
            "[21, 86, 30, 33, 43, 29, 31, 99, 0, 97, 80, 10, 2, 43, 23, 79, 6, 9, 5, 29, 16, 63, 30, 77, 87, 90, 54, 90, 36, 60, 67, 99, 13, 39, 7, 22, 45, 86, 63, 60, 62, 7, 95, 23, 90, 32, 37, 99, 42, 100, 31, 90, 24, 4, 70, 10, 64, 34, 64, 78, 44, 21, 35, 26, 31, 3, 36, 79, 33, 19, 4, 95, 4, 6, 4, 10, 82, 78, 34, 62, 81, 93, 63, 80, 51, 97, 29, 66, 21, 50, 50, 77, 51, 85, 46, 48, 36, 29, 65, 8]\n",
            "element found 16 at index 20\n"
          ],
          "name": "stdout"
        }
      ]
    },
    {
      "cell_type": "code",
      "metadata": {
        "id": "tgD5mULOQYqR",
        "colab_type": "code",
        "outputId": "18b387e0-3264-4b73-99b9-ff1e7f767aaf",
        "colab": {
          "base_uri": "https://localhost:8080/",
          "height": 54
        }
      },
      "source": [
        "import random\n",
        "mylist = []\n",
        "\n",
        "for i in range(100):\n",
        "  mylist.append(random.randint(0,100))\n",
        "  \n",
        "print(mylist)\n",
        "  \n"
      ],
      "execution_count": 0,
      "outputs": [
        {
          "output_type": "stream",
          "text": [
            "[21, 86, 30, 33, 43, 29, 31, 99, 0, 97, 80, 10, 2, 43, 23, 79, 6, 9, 5, 29, 16, 63, 30, 77, 87, 90, 54, 90, 36, 60, 67, 99, 13, 39, 7, 22, 45, 86, 63, 60, 62, 7, 95, 23, 90, 32, 37, 99, 42, 100, 31, 90, 24, 4, 70, 10, 64, 34, 64, 78, 44, 21, 35, 26, 31, 3, 36, 79, 33, 19, 4, 95, 4, 6, 4, 10, 82, 78, 34, 62, 81, 93, 63, 80, 51, 97, 29, 66, 21, 50, 50, 77, 51, 85, 46, 48, 36, 29, 65, 8]\n"
          ],
          "name": "stdout"
        }
      ]
    }
  ]
}